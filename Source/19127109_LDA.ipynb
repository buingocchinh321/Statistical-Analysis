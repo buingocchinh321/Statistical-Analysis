{
 "cells": [
  {
   "cell_type": "code",
   "execution_count": 1,
   "metadata": {},
   "outputs": [],
   "source": [
    "# Importing Datasets From Sklearn\n",
    "import matplotlib.pyplot as plt\n",
    "from sklearn.discriminant_analysis import LinearDiscriminantAnalysis\n",
    "import pandas as pd"
   ]
  },
  {
   "cell_type": "code",
   "execution_count": 2,
   "metadata": {},
   "outputs": [
    {
     "data": {
      "text/html": [
       "<div>\n",
       "<style scoped>\n",
       "    .dataframe tbody tr th:only-of-type {\n",
       "        vertical-align: middle;\n",
       "    }\n",
       "\n",
       "    .dataframe tbody tr th {\n",
       "        vertical-align: top;\n",
       "    }\n",
       "\n",
       "    .dataframe thead th {\n",
       "        text-align: right;\n",
       "    }\n",
       "</style>\n",
       "<table border=\"1\" class=\"dataframe\">\n",
       "  <thead>\n",
       "    <tr style=\"text-align: right;\">\n",
       "      <th></th>\n",
       "      <th>Year</th>\n",
       "      <th>Population</th>\n",
       "      <th>Yearly % Change</th>\n",
       "      <th>Yearly Change</th>\n",
       "      <th>Migrants (net)</th>\n",
       "      <th>Median Age</th>\n",
       "      <th>Fertility Rate</th>\n",
       "      <th>Density (P/Km²)</th>\n",
       "      <th>Urban Pop %</th>\n",
       "      <th>Urban Population</th>\n",
       "      <th>Country's Share of World Pop</th>\n",
       "      <th>World Population</th>\n",
       "      <th>China Global Rank</th>\n",
       "    </tr>\n",
       "  </thead>\n",
       "  <tbody>\n",
       "    <tr>\n",
       "      <th>0</th>\n",
       "      <td>2020</td>\n",
       "      <td>1439323776</td>\n",
       "      <td>0.46</td>\n",
       "      <td>6495181</td>\n",
       "      <td>-348399</td>\n",
       "      <td>38.4</td>\n",
       "      <td>1.69</td>\n",
       "      <td>153</td>\n",
       "      <td>60.8</td>\n",
       "      <td>875075919</td>\n",
       "      <td>18.47</td>\n",
       "      <td>7794798739</td>\n",
       "      <td>1</td>\n",
       "    </tr>\n",
       "    <tr>\n",
       "      <th>1</th>\n",
       "      <td>2025</td>\n",
       "      <td>1457908249</td>\n",
       "      <td>0.26</td>\n",
       "      <td>3716895</td>\n",
       "      <td>-371264</td>\n",
       "      <td>40.2</td>\n",
       "      <td>1.69</td>\n",
       "      <td>155</td>\n",
       "      <td>65.6</td>\n",
       "      <td>956553854</td>\n",
       "      <td>17.81</td>\n",
       "      <td>8184437460</td>\n",
       "      <td>1</td>\n",
       "    </tr>\n",
       "    <tr>\n",
       "      <th>2</th>\n",
       "      <td>2030</td>\n",
       "      <td>1464340159</td>\n",
       "      <td>0.09</td>\n",
       "      <td>1286382</td>\n",
       "      <td>-352100</td>\n",
       "      <td>42.6</td>\n",
       "      <td>1.69</td>\n",
       "      <td>156</td>\n",
       "      <td>69.5</td>\n",
       "      <td>1017847445</td>\n",
       "      <td>17.13</td>\n",
       "      <td>8548487400</td>\n",
       "      <td>2</td>\n",
       "    </tr>\n",
       "    <tr>\n",
       "      <th>3</th>\n",
       "      <td>2035</td>\n",
       "      <td>1461083029</td>\n",
       "      <td>-0.04</td>\n",
       "      <td>-651426</td>\n",
       "      <td>-311798</td>\n",
       "      <td>45.0</td>\n",
       "      <td>1.69</td>\n",
       "      <td>156</td>\n",
       "      <td>72.5</td>\n",
       "      <td>1059618626</td>\n",
       "      <td>16.44</td>\n",
       "      <td>8887524213</td>\n",
       "      <td>2</td>\n",
       "    </tr>\n",
       "    <tr>\n",
       "      <th>4</th>\n",
       "      <td>2040</td>\n",
       "      <td>1449031423</td>\n",
       "      <td>-0.17</td>\n",
       "      <td>-2410321</td>\n",
       "      <td>-311801</td>\n",
       "      <td>46.3</td>\n",
       "      <td>1.69</td>\n",
       "      <td>154</td>\n",
       "      <td>74.8</td>\n",
       "      <td>1083464035</td>\n",
       "      <td>15.75</td>\n",
       "      <td>9198847240</td>\n",
       "      <td>2</td>\n",
       "    </tr>\n",
       "    <tr>\n",
       "      <th>5</th>\n",
       "      <td>2045</td>\n",
       "      <td>1429312248</td>\n",
       "      <td>-0.27</td>\n",
       "      <td>-3943835</td>\n",
       "      <td>-311081</td>\n",
       "      <td>47.2</td>\n",
       "      <td>1.69</td>\n",
       "      <td>152</td>\n",
       "      <td>76.4</td>\n",
       "      <td>1092037409</td>\n",
       "      <td>15.07</td>\n",
       "      <td>9481803274</td>\n",
       "      <td>2</td>\n",
       "    </tr>\n",
       "    <tr>\n",
       "      <th>6</th>\n",
       "      <td>2050</td>\n",
       "      <td>1402405170</td>\n",
       "      <td>-0.38</td>\n",
       "      <td>-5381416</td>\n",
       "      <td>-310891</td>\n",
       "      <td>47.6</td>\n",
       "      <td>1.69</td>\n",
       "      <td>149</td>\n",
       "      <td>77.9</td>\n",
       "      <td>1091948003</td>\n",
       "      <td>14.41</td>\n",
       "      <td>9735033990</td>\n",
       "      <td>3</td>\n",
       "    </tr>\n",
       "  </tbody>\n",
       "</table>\n",
       "</div>"
      ],
      "text/plain": [
       "   Year  Population  Yearly % Change  Yearly Change  Migrants (net)  \\\n",
       "0  2020  1439323776             0.46        6495181         -348399   \n",
       "1  2025  1457908249             0.26        3716895         -371264   \n",
       "2  2030  1464340159             0.09        1286382         -352100   \n",
       "3  2035  1461083029            -0.04        -651426         -311798   \n",
       "4  2040  1449031423            -0.17       -2410321         -311801   \n",
       "5  2045  1429312248            -0.27       -3943835         -311081   \n",
       "6  2050  1402405170            -0.38       -5381416         -310891   \n",
       "\n",
       "   Median Age  Fertility Rate  Density (P/Km²)  Urban Pop %  Urban Population  \\\n",
       "0        38.4            1.69              153         60.8         875075919   \n",
       "1        40.2            1.69              155         65.6         956553854   \n",
       "2        42.6            1.69              156         69.5        1017847445   \n",
       "3        45.0            1.69              156         72.5        1059618626   \n",
       "4        46.3            1.69              154         74.8        1083464035   \n",
       "5        47.2            1.69              152         76.4        1092037409   \n",
       "6        47.6            1.69              149         77.9        1091948003   \n",
       "\n",
       "   Country's Share of World Pop  World Population  China Global Rank  \n",
       "0                         18.47        7794798739                  1  \n",
       "1                         17.81        8184437460                  1  \n",
       "2                         17.13        8548487400                  2  \n",
       "3                         16.44        8887524213                  2  \n",
       "4                         15.75        9198847240                  2  \n",
       "5                         15.07        9481803274                  2  \n",
       "6                         14.41        9735033990                  3  "
      ]
     },
     "execution_count": 2,
     "metadata": {},
     "output_type": "execute_result"
    }
   ],
   "source": [
    "# Loading seed Dataset \n",
    "df = pd.read_csv(\"data/china_population_forecast.csv\")\n",
    "df"
   ]
  },
  {
   "cell_type": "code",
   "execution_count": 3,
   "metadata": {},
   "outputs": [],
   "source": [
    "y = df['China Global Rank'] # Split off classifications\n",
    "X = df.iloc[:, [0, 1, 2, 3, 4, 5, 6,7,8,9,10,11]].values"
   ]
  },
  {
   "cell_type": "code",
   "execution_count": 4,
   "metadata": {},
   "outputs": [],
   "source": [
    "# fitting the LDA model\n",
    "lda = LinearDiscriminantAnalysis(n_components=2)\n",
    "lda_X = lda.fit(X, y).transform(X)"
   ]
  },
  {
   "cell_type": "code",
   "execution_count": 8,
   "metadata": {},
   "outputs": [
    {
     "data": {
      "text/plain": [
       "<matplotlib.legend.Legend at 0x291ec45b310>"
      ]
     },
     "execution_count": 8,
     "metadata": {},
     "output_type": "execute_result"
    },
    {
     "data": {
      "image/png": "[encoded data removed]",
      "text/plain": [
       "<Figure size 432x288 with 1 Axes>"
      ]
     },
     "metadata": {
      "needs_background": "light"
     },
     "output_type": "display_data"
    }
   ],
   "source": [
    "plt.scatter(lda_X[y == 1, 0], lda_X[y == 1, 1], s =100,  c = 'yellow', label = 'Target 1')\n",
    "plt.scatter(lda_X[y == 2, 0], lda_X[y == 2, 1], s =100,  c = 'green', label = 'Target 2')\n",
    "plt.title('LDA plot for China Population Forecast')\n",
    "plt.legend()"
   ]
  }
 ],
 "metadata": {
  "interpreter": {
   "hash": "88415b0e9698c44754e5331cfa20cd2a27fb767e1953536238d9b6d4cd4b9d4c"
  },
  "kernelspec": {
   "display_name": "Python 3.10.2 ('your-env': venv)",
   "language": "python",
   "name": "python3"
  },
  "language_info": {
   "codemirror_mode": {
    "name": "ipython",
    "version": 3
   },
   "file_extension": ".py",
   "mimetype": "text/x-python",
   "name": "python",
   "nbconvert_exporter": "python",
   "pygments_lexer": "ipython3",
   "version": "3.10.2"
  },
  "orig_nbformat": 4
 },
 "nbformat": 4,
 "nbformat_minor": 2
}
