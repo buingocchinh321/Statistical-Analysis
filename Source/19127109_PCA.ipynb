{
 "cells": [
  {
   "cell_type": "code",
   "execution_count": 15,
   "metadata": {},
   "outputs": [],
   "source": [
    "# importing the libraries\n",
    "import matplotlib.pyplot as plt\n",
    "import numpy as np\n",
    "import pandas as pd\n",
    "import scipy.stats as stats\n",
    "import seaborn as sns\n",
    "from sklearn.preprocessing import scale\n",
    "from sklearn.decomposition import PCA"
   ]
  },
  {
   "cell_type": "code",
   "execution_count": 16,
   "metadata": {},
   "outputs": [],
   "source": [
    "# set NumPy options\n",
    "np.set_printoptions(suppress=True)\n",
    "pd.set_option('display.max_rows', 20)"
   ]
  },
  {
   "cell_type": "code",
   "execution_count": 17,
   "metadata": {},
   "outputs": [],
   "source": [
    "# read CSV data with Pandas\n",
    "data = pd.read_csv(\"data/china_population.csv\")"
   ]
  },
  {
   "cell_type": "code",
   "execution_count": 18,
   "metadata": {},
   "outputs": [],
   "source": [
    "# setup data column\n",
    "data.columns = [\"V\" + str(i) for i in range(1, len(data.columns) + 1)]\n",
    "# independent variables data\n",
    "X = data.loc[:, \"V1\":\"V12\"]\n",
    "# dependent variable data\n",
    "y = data.V13"
   ]
  },
  {
   "cell_type": "code",
   "execution_count": 19,
   "metadata": {},
   "outputs": [
    {
     "name": "stdout",
     "output_type": "stream",
     "text": [
      "## Data:\n",
      "      V1          V2    V3        V4      V5    V6    V7   V8    V9  \\\n",
      "0   2020  1439323776  0.39   5540090 -348399  38.4  1.69  153  60.8   \n",
      "1   2019  1433783686  0.43   6135900 -348399  37.0  1.65  153  59.7   \n",
      "2   2018  1427647786  0.47   6625995 -348399  37.0  1.65  152  58.6   \n",
      "3   2017  1421021791  0.49   6972440 -348399  37.0  1.65  151  57.5   \n",
      "4   2016  1414049351  0.51   7201481 -348399  37.0  1.65  151  56.3   \n",
      "5   2015  1406847870  0.55   7607451 -310442  36.7  1.64  150  55.1   \n",
      "6   2010  1368810615  0.57   7606847 -435677  35.0  1.62  146  48.9   \n",
      "7   2005  1330776380  0.62   8045123 -393116  32.6  1.61  142  42.2   \n",
      "8   2000  1290550765  0.79   9926046  -76600  30.0  1.62  137  35.7   \n",
      "9   1995  1240920535  1.07  12807372 -155996  27.4  1.83  132  30.9   \n",
      "10  1990  1176883674  1.82  20258863  -86330  24.9  2.73  125  26.3   \n",
      "11  1985  1075589361  1.47  15100025  -40000  23.5  2.52  115  22.8   \n",
      "12  1980  1000089235  1.55  14769670   -9401  21.9  3.01  107  19.2   \n",
      "13  1975   926240885  2.28  19727898 -221096  20.3  4.85   99  17.3   \n",
      "14  1970   827601394  2.70  20676485  -32000  19.3  6.30   88  17.3   \n",
      "15  1965   724218968  1.86  12762182 -225145  19.8  6.15   77  18.0   \n",
      "16  1960   660408056  1.53   9633300  -11900  21.3  5.48   70  16.1   \n",
      "17  1955   612241554  2.00  11564456  -51205  22.2  6.11   65  13.8   \n",
      "\n",
      "          V10    V11         V12  V13  \n",
      "0   875075919  18.47  7794798739    1  \n",
      "1   856409297  18.59  7713468100    1  \n",
      "2   837022095  18.71  7631091040    1  \n",
      "3   816957613  18.83  7547858925    1  \n",
      "4   796289491  18.94  7464022049    1  \n",
      "5   775352918  19.06  7379797139    1  \n",
      "6   669353557  19.68  6956823603    1  \n",
      "7   561983323  20.34  6541907027    1  \n",
      "8   460377048  21.01  6143493823    1  \n",
      "9   383901711  21.60  5744212979    1  \n",
      "10  310022147  22.09  5327231061    1  \n",
      "11  244946241  22.08  4870921740    1  \n",
      "12  192392094  22.43  4458003514    1  \n",
      "13  160244444  22.70  4079480606    1  \n",
      "14  143513192  22.36  3700437046    1  \n",
      "15  130684595  21.69  3339583597    1  \n",
      "16  106561743  21.76  3034949748    1  \n",
      "17   84639825  22.08  2773019936    1  \n"
     ]
    }
   ],
   "source": [
    "print(\"## Data:\")\n",
    "print(data)"
   ]
  },
  {
   "cell_type": "code",
   "execution_count": 20,
   "metadata": {},
   "outputs": [
    {
     "name": "stdout",
     "output_type": "stream",
     "text": [
      "## Head:\n",
      "     V1          V2    V3       V4      V5    V6    V7   V8    V9        V10  \\\n",
      "0  2020  1439323776  0.39  5540090 -348399  38.4  1.69  153  60.8  875075919   \n",
      "1  2019  1433783686  0.43  6135900 -348399  37.0  1.65  153  59.7  856409297   \n",
      "2  2018  1427647786  0.47  6625995 -348399  37.0  1.65  152  58.6  837022095   \n",
      "3  2017  1421021791  0.49  6972440 -348399  37.0  1.65  151  57.5  816957613   \n",
      "4  2016  1414049351  0.51  7201481 -348399  37.0  1.65  151  56.3  796289491   \n",
      "\n",
      "     V11         V12  V13  \n",
      "0  18.47  7794798739    1  \n",
      "1  18.59  7713468100    1  \n",
      "2  18.71  7631091040    1  \n",
      "3  18.83  7547858925    1  \n",
      "4  18.94  7464022049    1  \n"
     ]
    }
   ],
   "source": [
    "print(\"## Head:\")\n",
    "print(data.head())"
   ]
  },
  {
   "cell_type": "code",
   "execution_count": 21,
   "metadata": {},
   "outputs": [
    {
     "name": "stdout",
     "output_type": "stream",
     "text": [
      "## Info:\n",
      "<class 'pandas.core.frame.DataFrame'>\n",
      "RangeIndex: 18 entries, 0 to 17\n",
      "Data columns (total 13 columns):\n",
      " #   Column  Non-Null Count  Dtype  \n",
      "---  ------  --------------  -----  \n",
      " 0   V1      18 non-null     int64  \n",
      " 1   V2      18 non-null     int64  \n",
      " 2   V3      18 non-null     float64\n",
      " 3   V4      18 non-null     int64  \n",
      " 4   V5      18 non-null     int64  \n",
      " 5   V6      18 non-null     float64\n",
      " 6   V7      18 non-null     float64\n",
      " 7   V8      18 non-null     int64  \n",
      " 8   V9      18 non-null     float64\n",
      " 9   V10     18 non-null     int64  \n",
      " 10  V11     18 non-null     float64\n",
      " 11  V12     18 non-null     int64  \n",
      " 12  V13     18 non-null     int64  \n",
      "dtypes: float64(5), int64(8)\n",
      "memory usage: 2.0 KB\n"
     ]
    }
   ],
   "source": [
    "print(\"## Info:\")\n",
    "data.info()"
   ]
  },
  {
   "cell_type": "code",
   "execution_count": 22,
   "metadata": {},
   "outputs": [
    {
     "name": "stdout",
     "output_type": "stream",
     "text": [
      "p-value:\t 4.314023782330023e-06\n",
      "cor:\t\t -0.8617286512994904\n",
      "           V1        V2        V3        V4        V5        V6        V7  \\\n",
      "V1   1.000000  0.988402 -0.890477 -0.659249 -0.777704  0.953335 -0.912711   \n",
      "V2   0.988402  1.000000 -0.861729 -0.580571 -0.724647  0.912011 -0.949852   \n",
      "V3  -0.890477 -0.861729  1.000000  0.895210  0.732022 -0.939094  0.872490   \n",
      "V4  -0.659249 -0.580571  0.895210  1.000000  0.673160 -0.822290  0.572113   \n",
      "V5  -0.777704 -0.724647  0.732022  0.673160  1.000000 -0.815520  0.580420   \n",
      "V6   0.953335  0.912011 -0.939094 -0.822290 -0.815520  1.000000 -0.833693   \n",
      "V7  -0.912711 -0.949852  0.872490  0.572113  0.580420 -0.833693  1.000000   \n",
      "V8   0.988254  0.999950 -0.861095 -0.579417 -0.725716  0.911071 -0.950298   \n",
      "V9   0.962813  0.913333 -0.907800 -0.785034 -0.831865  0.988199 -0.803617   \n",
      "V10  0.969503  0.923780 -0.906068 -0.771593 -0.825220  0.988316 -0.817117   \n",
      "V11 -0.885161 -0.808895  0.893030  0.863053  0.827303 -0.964640  0.688427   \n",
      "V12  0.999202  0.984355 -0.899361 -0.679980 -0.783342  0.963863 -0.907774   \n",
      "\n",
      "           V8        V9       V10       V11       V12  \n",
      "V1   0.988254  0.962813  0.969503 -0.885161  0.999202  \n",
      "V2   0.999950  0.913333  0.923780 -0.808895  0.984355  \n",
      "V3  -0.861095 -0.907800 -0.906068  0.893030 -0.899361  \n",
      "V4  -0.579417 -0.785034 -0.771593  0.863053 -0.679980  \n",
      "V5  -0.725716 -0.831865 -0.825220  0.827303 -0.783342  \n",
      "V6   0.911071  0.988199  0.988316 -0.964640  0.963863  \n",
      "V7  -0.950298 -0.803617 -0.817117  0.688427 -0.907774  \n",
      "V8   1.000000  0.912574  0.923095 -0.807749  0.984047  \n",
      "V9   0.912574  1.000000  0.999377 -0.976744  0.970542  \n",
      "V10  0.923095  0.999377  1.000000 -0.969559  0.976652  \n",
      "V11 -0.807749 -0.976744 -0.969559  1.000000 -0.898549  \n",
      "V12  0.984047  0.970542  0.976652 -0.898549  1.000000  \n"
     ]
    },
    {
     "data": {
      "image/png": "[encoded data removed]",
      "text/plain": [
       "<Figure size 432x288 with 2 Axes>"
      ]
     },
     "metadata": {
      "needs_background": "light"
     },
     "output_type": "display_data"
    }
   ],
   "source": [
    "# calculating correlations for multivariate data\n",
    "corr = stats.pearsonr(X.V2, X.V3)\n",
    "print(\"p-value:\\t\", corr[1])\n",
    "print(\"cor:\\t\\t\", corr[0])\n",
    "\n",
    "corr_mat = X.corr()\n",
    "print(corr_mat)\n",
    "\n",
    "plt.figure()\n",
    "sns.heatmap(corr_mat, vmax=1., square=False).xaxis.tick_top()\n",
    "plt.show()"
   ]
  },
  {
   "cell_type": "code",
   "execution_count": 23,
   "metadata": {},
   "outputs": [
    {
     "name": "stdout",
     "output_type": "stream",
     "text": [
      "  FirstVariable SecondVariable  Correlation\n",
      "0            V2             V8     0.999950\n",
      "1            V9            V10     0.999377\n",
      "2            V1            V12     0.999202\n",
      "3            V1             V2     0.988402\n",
      "4            V6            V10     0.988316\n",
      "5            V1             V8     0.988254\n",
      "6            V6             V9     0.988199\n",
      "7            V2            V12     0.984355\n",
      "8            V8            V12     0.984047\n",
      "9            V9            V11    -0.976744\n"
     ]
    }
   ],
   "source": [
    "def most_highly_correlated(my_dataframe, num_to_report):\n",
    "    # find the correlations\n",
    "    cor_matrix = my_dataframe.corr()\n",
    "    # set the correlations on the diagonal or lower triangle to zero,\n",
    "    # so they will not be reported as the highest ones:\n",
    "    cor_matrix *= np.tri(*cor_matrix.values.shape, k=-1).T\n",
    "    # find the top n correlations\n",
    "    cor_matrix = cor_matrix.stack()\n",
    "    cor_matrix = cor_matrix.reindex(cor_matrix.abs().sort_values(ascending=False).index).reset_index()\n",
    "    # assign human-friendly names\n",
    "    cor_matrix.columns = [\"FirstVariable\", \"SecondVariable\", \"Correlation\"]\n",
    "    return cor_matrix.head(num_to_report)\n",
    "\n",
    "\n",
    "print(most_highly_correlated(X, 10))"
   ]
  },
  {
   "cell_type": "code",
   "execution_count": 24,
   "metadata": {},
   "outputs": [
    {
     "data": {
      "image/png": "[encoded data removed]",
      "text/plain": [
       "<Figure size 936x360 with 1 Axes>"
      ]
     },
     "metadata": {
      "needs_background": "light"
     },
     "output_type": "display_data"
    }
   ],
   "source": [
    "def print_total_population_China():\n",
    "    df = pd.read_csv('data/china_population.csv')\n",
    "    df_ = pd.read_csv('data/china_population_forecast.csv')\n",
    "    city_list = pd.read_csv('data/city_population_china.csv')\n",
    "    df_.sort_index(ascending=False, inplace=True)\n",
    "    df = pd.concat([df_, df])\n",
    "    df.reset_index(inplace=True)\n",
    "    df.drop(index=6, inplace=True)\n",
    "    x = df['Year']\n",
    "    y = df['Population']\n",
    "    plt.figure(figsize=(13,5))\n",
    "    plt.plot(x,y,color='#EDB120')\n",
    "    plt.plot(x,y,'*',color='r',markersize=22)\n",
    "    plt.xlabel('Year')\n",
    "    plt.xticks([1960, 1970, 1980, 1990, 2000, 2010, 2020, 2030, 2040, 2050])\n",
    "    plt.ylabel('Population')\n",
    "    plt.yticks()\n",
    "    plt.title('Total population of China   (1955-2050)')\n",
    "    plt.show()\n",
    "print_total_population_China()"
   ]
  },
  {
   "cell_type": "code",
   "execution_count": 25,
   "metadata": {},
   "outputs": [
    {
     "data": {
      "image/png": "[encoded data removed]",
      "text/plain": [
       "<Figure size 936x360 with 1 Axes>"
      ]
     },
     "metadata": {
      "needs_background": "light"
     },
     "output_type": "display_data"
    }
   ],
   "source": [
    "def print_percentage_yearly_change_Population():\n",
    "    df = pd.read_csv('data/china_population.csv')\n",
    "    df_ = pd.read_csv('data/china_population_forecast.csv')\n",
    "    city_list = pd.read_csv('data/city_population_china.csv')\n",
    "    df_.sort_index(ascending=False, inplace=True)\n",
    "    df = pd.concat([df_, df])\n",
    "    df.reset_index(inplace=True)\n",
    "    df.drop(index=6, inplace=True)\n",
    "    x = df['Year']\n",
    "    y = df['Yearly % Change']\n",
    "    plt.figure(figsize=(13,5))\n",
    "    plt.plot(x,y,'#4DBEEE')\n",
    "    plt.plot(x,y,'h',color='#EDB120',markersize=18)\n",
    "    plt.xlabel('Year')\n",
    "    plt.ylabel('Yearly % Change')\n",
    "    plt.title('Percentage Yearly Change in Population  (1955-2050)')\n",
    "    plt.show()\n",
    "print_percentage_yearly_change_Population()"
   ]
  },
  {
   "cell_type": "code",
   "execution_count": 26,
   "metadata": {},
   "outputs": [
    {
     "name": "stdout",
     "output_type": "stream",
     "text": [
      "V1     0.000000e+00\n",
      "V2     1.233581e-17\n",
      "V3    -1.233581e-17\n",
      "V4    -2.582811e-17\n",
      "V5    -3.700743e-17\n",
      "V6     4.317534e-17\n",
      "V7    -7.401487e-17\n",
      "V8     4.934325e-17\n",
      "V9     0.000000e+00\n",
      "V10   -3.700743e-17\n",
      "V11   -3.083953e-17\n",
      "V12    1.233581e-17\n",
      "dtype: float64\n",
      "V1     1.0\n",
      "V2     1.0\n",
      "V3     1.0\n",
      "V4     1.0\n",
      "V5     1.0\n",
      "V6     1.0\n",
      "V7     1.0\n",
      "V8     1.0\n",
      "V9     1.0\n",
      "V10    1.0\n",
      "V11    1.0\n",
      "V12    1.0\n",
      "dtype: float64\n"
     ]
    },
    {
     "name": "stderr",
     "output_type": "stream",
     "text": [
      "d:\\MSA\\Lab3_ScikitLearn_and_PCA\\Source\\your-env\\lib\\site-packages\\sklearn\\preprocessing\\_data.py:235: UserWarning: Numerical issues were encountered when centering the data and might not be solved. Dataset may contain too large values. You may need to prescale your features.\n",
      "  warnings.warn(\n"
     ]
    }
   ],
   "source": [
    "# standardising variables\n",
    "standardisedX = scale(X)\n",
    "standardisedX = pd.DataFrame(standardisedX, index=X.index, columns=X.columns)\n",
    "\n",
    "print(standardisedX.apply(np.mean))\n",
    "print(standardisedX.apply(np.std))"
   ]
  },
  {
   "cell_type": "code",
   "execution_count": 27,
   "metadata": {},
   "outputs": [
    {
     "name": "stdout",
     "output_type": "stream",
     "text": [
      "Importance of components:\n",
      "                   sdev                varprop               cumprop\n",
      "     Standard deviation Proportion of Variance Cumulative Proportion\n",
      "PC1            3.246012           8.780496e-01              0.878050\n",
      "PC2            0.915023           6.977220e-02              0.947822\n",
      "PC3            0.644959           3.466439e-02              0.982486\n",
      "PC4            0.432466           1.558559e-02              0.998072\n",
      "PC5            0.116899           1.138788e-03              0.999211\n",
      "PC6            0.080036           5.338099e-04              0.999744\n",
      "PC7            0.047203           1.856787e-04              0.999930\n",
      "PC8            0.025122           5.259399e-05              0.999983\n",
      "PC9            0.012733           1.351132e-05              0.999996\n",
      "PC10           0.005668           2.677586e-06              0.999999\n",
      "PC11           0.003612           1.087345e-06              1.000000\n",
      "PC12           0.000939           7.354552e-08              1.000000\n",
      "      Standard deviation\n",
      "PC1             3.246012\n",
      "PC2             0.915023\n",
      "PC3             0.644959\n",
      "PC4             0.432466\n",
      "PC5             0.116899\n",
      "PC6             0.080036\n",
      "PC7             0.047203\n",
      "PC8             0.025122\n",
      "PC9             0.012733\n",
      "PC10            0.005668\n",
      "PC11            0.003612\n",
      "PC12            0.000939\n",
      "Standard deviation    12.0\n",
      "dtype: float64\n"
     ]
    }
   ],
   "source": [
    "# principal component analysis\n",
    "pca = PCA().fit(standardisedX)\n",
    "def pca_summary(pca, standardised_data, out=True):\n",
    "    names = [\"PC\"+str(i) for i in range(1, len(pca.explained_variance_ratio_)+1)]\n",
    "    a = list(np.std(pca.transform(standardised_data), axis=0))\n",
    "    b = list(pca.explained_variance_ratio_)\n",
    "    c = [np.sum(pca.explained_variance_ratio_[:i]) for i in range(1, len(pca.explained_variance_ratio_)+1)]\n",
    "    columns = pd.MultiIndex.from_tuples([(\"sdev\", \"Standard deviation\"), (\"varprop\", \"Proportion of Variance\"), (\"cumprop\", \"Cumulative Proportion\")])\n",
    "    summary = pd.DataFrame(list(zip(a, b, c)), index=names, columns=columns)\n",
    "    if out:\n",
    "        print(\"Importance of components:\")\n",
    "        print(summary)\n",
    "    return summary\n",
    "\n",
    "\n",
    "summary = pca_summary(pca, standardisedX)\n",
    "print(summary.sdev)\n",
    "print(np.sum(summary.sdev**2))"
   ]
  },
  {
   "cell_type": "code",
   "execution_count": 28,
   "metadata": {},
   "outputs": [
    {
     "data": {
      "image/png": "[encoded data removed]",
      "text/plain": [
       "<Figure size 432x288 with 1 Axes>"
      ]
     },
     "metadata": {
      "needs_background": "light"
     },
     "output_type": "display_data"
    },
    {
     "name": "stdout",
     "output_type": "stream",
     "text": [
      "      Standard deviation\n",
      "PC1         1.053660e+01\n",
      "PC2         8.372664e-01\n",
      "PC3         4.159727e-01\n",
      "PC4         1.870271e-01\n",
      "PC5         1.366546e-02\n",
      "PC6         6.405718e-03\n",
      "PC7         2.228144e-03\n",
      "PC8         6.311279e-04\n",
      "PC9         1.621358e-04\n",
      "PC10        3.213104e-05\n",
      "PC11        1.304814e-05\n",
      "PC12        8.825462e-07\n"
     ]
    }
   ],
   "source": [
    "# how many principal components to retain\n",
    "def scree_plot(pca, standardised_values):\n",
    "    y = np.std(pca.transform(standardised_values), axis=0)**2\n",
    "    x = np.arange(len(y)) + 1\n",
    "    plt.plot(x, y, \"o-\")\n",
    "    plt.xticks(x, [\"Comp.\"+str(i) for i in x], rotation=60)\n",
    "    plt.ylabel(\"Variance\")\n",
    "    plt.show()\n",
    "\n",
    "\n",
    "plt.figure()\n",
    "scree_plot(pca, standardisedX)\n",
    "\n",
    "print(summary.sdev**2)"
   ]
  },
  {
   "cell_type": "code",
   "execution_count": 31,
   "metadata": {},
   "outputs": [
    {
     "data": {
      "image/png": "[encoded data removed]",
      "text/plain": [
       "<Figure size 472.375x360 with 1 Axes>"
      ]
     },
     "metadata": {
      "needs_background": "light"
     },
     "output_type": "display_data"
    }
   ],
   "source": [
    "# scatter plots of the principal components\n",
    "def pca_scatter(pca, standardised_values, classifs):\n",
    "    foo = pca.transform(standardised_values)\n",
    "    bar = pd.DataFrame(list(zip(foo[:, 0], foo[:, 11], classifs)), columns=[\"PC1\", \"PC2\", \"Global Rank of China\"])\n",
    "    sns.lmplot(x=\"PC1\", y=\"PC2\", data=bar, hue=\"Global Rank of China\", fit_reg=False)\n",
    "\n",
    "\n",
    "pca_scatter(pca, standardisedX, y)"
   ]
  }
 ],
 "metadata": {
  "interpreter": {
   "hash": "88415b0e9698c44754e5331cfa20cd2a27fb767e1953536238d9b6d4cd4b9d4c"
  },
  "kernelspec": {
   "display_name": "Python 3.10.2 ('your-env': venv)",
   "language": "python",
   "name": "python3"
  },
  "language_info": {
   "codemirror_mode": {
    "name": "ipython",
    "version": 3
   },
   "file_extension": ".py",
   "mimetype": "text/x-python",
   "name": "python",
   "nbconvert_exporter": "python",
   "pygments_lexer": "ipython3",
   "version": "3.10.2"
  },
  "orig_nbformat": 4
 },
 "nbformat": 4,
 "nbformat_minor": 2
}
